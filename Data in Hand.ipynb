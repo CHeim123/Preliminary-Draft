{
 "cells": [
  {
   "cell_type": "markdown",
   "id": "d40a464f",
   "metadata": {},
   "source": [
    "## Data in Hand\n",
    "\n",
    "For my project I am going to be comparing the growth rate of the top 10 largest counties in Pennsylvania versus the 10 smallest counties based off of the total square miles of each county. I will be using the two data sets below where the first data set shows the growth rate and population of each county, and the second data set shows the total square miles of each county. I plan on doing this by using the matplotlib program to visualize and compare the 20 counties to get a better understanding and hopefully a clear answer to my initial question. I think this question is a viable one to ask because I wonder if counties with larger total square miles will end up growing in population faster than the ones with less total square miles. Some people may think that smaller counties will not grow as fast due to the lack of space, and the larger counties will grow faster due to the abundance of space. This question was a random one that popped into my head while thinking about what I should do for my project, but it is one that stuck with me. I first started thinking about doing the land area and population of states in the United States, but I thought I would get a more accurate reading doing counties because states cover too large of an area to get a reasonable answer."
   ]
  },
  {
   "cell_type": "code",
   "execution_count": 13,
   "id": "27dedb26",
   "metadata": {},
   "outputs": [],
   "source": [
    "import pandas as pd\n",
    "import json\n",
    "import numpy as np\n",
    "from matplotlib import pyplot as plt\n",
    "from scipy import stats"
   ]
  },
  {
   "cell_type": "code",
   "execution_count": 3,
   "id": "bebbdd09",
   "metadata": {},
   "outputs": [],
   "source": [
    "County_population = pd.read_csv('/Users/coreyheim/Downloads/Counties.csv')"
   ]
  },
  {
   "cell_type": "markdown",
   "id": "799ae246",
   "metadata": {},
   "source": [
    "## First Data Set\n",
    "This first data set shows the growth rate and population of each county in the state of Pennsylvania. This will be compared to the next data set which is shown below. This data is from https://worldpopulationreview.com/us-counties/states/pa which is a reliable data source. The website \"worldpopulationreview\" is a website that makes data more accessible for people who might not know how to web scrape a certain website. They take the data from government website like the census to get accurate data."
   ]
  },
  {
   "cell_type": "code",
   "execution_count": 4,
   "id": "0cc94981",
   "metadata": {
    "scrolled": true
   },
   "outputs": [
    {
     "data": {
      "text/html": [
       "<div>\n",
       "<style scoped>\n",
       "    .dataframe tbody tr th:only-of-type {\n",
       "        vertical-align: middle;\n",
       "    }\n",
       "\n",
       "    .dataframe tbody tr th {\n",
       "        vertical-align: top;\n",
       "    }\n",
       "\n",
       "    .dataframe thead th {\n",
       "        text-align: right;\n",
       "    }\n",
       "</style>\n",
       "<table border=\"1\" class=\"dataframe\">\n",
       "  <thead>\n",
       "    <tr style=\"text-align: right;\">\n",
       "      <th></th>\n",
       "      <th>CTYNAME</th>\n",
       "      <th>pop2021</th>\n",
       "      <th>GrowthRate</th>\n",
       "      <th>popDensity</th>\n",
       "    </tr>\n",
       "  </thead>\n",
       "  <tbody>\n",
       "    <tr>\n",
       "      <th>0</th>\n",
       "      <td>Philadelphia County</td>\n",
       "      <td>1585010</td>\n",
       "      <td>3.7120</td>\n",
       "      <td>1784.9531</td>\n",
       "    </tr>\n",
       "    <tr>\n",
       "      <th>1</th>\n",
       "      <td>Allegheny County</td>\n",
       "      <td>1213570</td>\n",
       "      <td>-0.8489</td>\n",
       "      <td>1366.6573</td>\n",
       "    </tr>\n",
       "    <tr>\n",
       "      <th>2</th>\n",
       "      <td>Montgomery County</td>\n",
       "      <td>838897</td>\n",
       "      <td>4.7477</td>\n",
       "      <td>944.7207</td>\n",
       "    </tr>\n",
       "    <tr>\n",
       "      <th>3</th>\n",
       "      <td>Bucks County</td>\n",
       "      <td>629186</td>\n",
       "      <td>0.6078</td>\n",
       "      <td>708.5555</td>\n",
       "    </tr>\n",
       "    <tr>\n",
       "      <th>4</th>\n",
       "      <td>Delaware County</td>\n",
       "      <td>569779</td>\n",
       "      <td>1.9317</td>\n",
       "      <td>641.6545</td>\n",
       "    </tr>\n",
       "    <tr>\n",
       "      <th>...</th>\n",
       "      <td>...</td>\n",
       "      <td>...</td>\n",
       "      <td>...</td>\n",
       "      <td>...</td>\n",
       "    </tr>\n",
       "    <tr>\n",
       "      <th>62</th>\n",
       "      <td>Potter County</td>\n",
       "      <td>16332</td>\n",
       "      <td>-6.4283</td>\n",
       "      <td>18.3922</td>\n",
       "    </tr>\n",
       "    <tr>\n",
       "      <th>63</th>\n",
       "      <td>Fulton County</td>\n",
       "      <td>14540</td>\n",
       "      <td>-2.1666</td>\n",
       "      <td>16.3742</td>\n",
       "    </tr>\n",
       "    <tr>\n",
       "      <th>64</th>\n",
       "      <td>Forest County</td>\n",
       "      <td>7173</td>\n",
       "      <td>-6.9167</td>\n",
       "      <td>8.0778</td>\n",
       "    </tr>\n",
       "    <tr>\n",
       "      <th>65</th>\n",
       "      <td>Sullivan County</td>\n",
       "      <td>6046</td>\n",
       "      <td>-5.6345</td>\n",
       "      <td>6.8087</td>\n",
       "    </tr>\n",
       "    <tr>\n",
       "      <th>66</th>\n",
       "      <td>Cameron County</td>\n",
       "      <td>4339</td>\n",
       "      <td>-14.6034</td>\n",
       "      <td>4.8863</td>\n",
       "    </tr>\n",
       "  </tbody>\n",
       "</table>\n",
       "<p>67 rows × 4 columns</p>\n",
       "</div>"
      ],
      "text/plain": [
       "                CTYNAME  pop2021  GrowthRate  popDensity\n",
       "0   Philadelphia County  1585010      3.7120   1784.9531\n",
       "1      Allegheny County  1213570     -0.8489   1366.6573\n",
       "2     Montgomery County   838897      4.7477    944.7207\n",
       "3          Bucks County   629186      0.6078    708.5555\n",
       "4       Delaware County   569779      1.9317    641.6545\n",
       "..                  ...      ...         ...         ...\n",
       "62        Potter County    16332     -6.4283     18.3922\n",
       "63        Fulton County    14540     -2.1666     16.3742\n",
       "64        Forest County     7173     -6.9167      8.0778\n",
       "65      Sullivan County     6046     -5.6345      6.8087\n",
       "66       Cameron County     4339    -14.6034      4.8863\n",
       "\n",
       "[67 rows x 4 columns]"
      ]
     },
     "execution_count": 4,
     "metadata": {},
     "output_type": "execute_result"
    }
   ],
   "source": [
    "County_population.head(67)"
   ]
  },
  {
   "cell_type": "code",
   "execution_count": 15,
   "id": "47786f7f",
   "metadata": {},
   "outputs": [],
   "source": [
    "County_land = pd.read_csv('/Users/coreyheim/Desktop/County Land.csv')"
   ]
  },
  {
   "cell_type": "markdown",
   "id": "78d6d6d0",
   "metadata": {},
   "source": [
    "## Second Data Set\n",
    "The second data set I will be using shows the list of counties in order by most land area to the least amount of land area. Again, this will be used to compare to the growth of population seen in the first data set. This data is from http://www.usa.com/rank/pennsylvania-state--land-area--county-rank.htm which is also a very reliable data source. The goal of usa.com states \"making services and offering information on the most local level easy to find, digest, and benefit from\" This website is very similar to world population review as they also scrape data from sources like the census to make the data more accessible."
   ]
  },
  {
   "cell_type": "code",
   "execution_count": 16,
   "id": "9c786975",
   "metadata": {},
   "outputs": [
    {
     "data": {
      "text/html": [
       "<div>\n",
       "<style scoped>\n",
       "    .dataframe tbody tr th:only-of-type {\n",
       "        vertical-align: middle;\n",
       "    }\n",
       "\n",
       "    .dataframe tbody tr th {\n",
       "        vertical-align: top;\n",
       "    }\n",
       "\n",
       "    .dataframe thead th {\n",
       "        text-align: right;\n",
       "    }\n",
       "</style>\n",
       "<table border=\"1\" class=\"dataframe\">\n",
       "  <thead>\n",
       "    <tr style=\"text-align: right;\">\n",
       "      <th></th>\n",
       "      <th>Rank</th>\n",
       "      <th>Land Area</th>\n",
       "      <th>County</th>\n",
       "    </tr>\n",
       "  </thead>\n",
       "  <tbody>\n",
       "    <tr>\n",
       "      <th>0</th>\n",
       "      <td>1.0</td>\n",
       "      <td>1228.59</td>\n",
       "      <td>Lycoming</td>\n",
       "    </tr>\n",
       "    <tr>\n",
       "      <th>1</th>\n",
       "      <td>2.0</td>\n",
       "      <td>1147.40</td>\n",
       "      <td>Bradford</td>\n",
       "    </tr>\n",
       "    <tr>\n",
       "      <th>2</th>\n",
       "      <td>3.0</td>\n",
       "      <td>1144.72</td>\n",
       "      <td>Clearfield</td>\n",
       "    </tr>\n",
       "    <tr>\n",
       "      <th>3</th>\n",
       "      <td>4.0</td>\n",
       "      <td>1133.79</td>\n",
       "      <td>Tioga</td>\n",
       "    </tr>\n",
       "    <tr>\n",
       "      <th>4</th>\n",
       "      <td>5.0</td>\n",
       "      <td>1109.92</td>\n",
       "      <td>Centre</td>\n",
       "    </tr>\n",
       "    <tr>\n",
       "      <th>...</th>\n",
       "      <td>...</td>\n",
       "      <td>...</td>\n",
       "      <td>...</td>\n",
       "    </tr>\n",
       "    <tr>\n",
       "      <th>62</th>\n",
       "      <td>63.0</td>\n",
       "      <td>328.71</td>\n",
       "      <td>Snyder</td>\n",
       "    </tr>\n",
       "    <tr>\n",
       "      <th>63</th>\n",
       "      <td>64.0</td>\n",
       "      <td>315.98</td>\n",
       "      <td>Union</td>\n",
       "    </tr>\n",
       "    <tr>\n",
       "      <th>64</th>\n",
       "      <td>65.0</td>\n",
       "      <td>183.84</td>\n",
       "      <td>Delaware</td>\n",
       "    </tr>\n",
       "    <tr>\n",
       "      <th>65</th>\n",
       "      <td>66.0</td>\n",
       "      <td>134.10</td>\n",
       "      <td>Philadelphia</td>\n",
       "    </tr>\n",
       "    <tr>\n",
       "      <th>66</th>\n",
       "      <td>67.0</td>\n",
       "      <td>130.24</td>\n",
       "      <td>Montour</td>\n",
       "    </tr>\n",
       "  </tbody>\n",
       "</table>\n",
       "<p>67 rows × 3 columns</p>\n",
       "</div>"
      ],
      "text/plain": [
       "    Rank  Land Area        County\n",
       "0    1.0    1228.59      Lycoming\n",
       "1    2.0    1147.40      Bradford\n",
       "2    3.0    1144.72    Clearfield\n",
       "3    4.0    1133.79         Tioga\n",
       "4    5.0    1109.92        Centre\n",
       "..   ...        ...           ...\n",
       "62  63.0     328.71        Snyder\n",
       "63  64.0     315.98         Union\n",
       "64  65.0     183.84      Delaware\n",
       "65  66.0     134.10  Philadelphia\n",
       "66  67.0     130.24       Montour\n",
       "\n",
       "[67 rows x 3 columns]"
      ]
     },
     "execution_count": 16,
     "metadata": {},
     "output_type": "execute_result"
    }
   ],
   "source": [
    "County_land.head(67)"
   ]
  },
  {
   "cell_type": "code",
   "execution_count": 24,
   "id": "02e29dda",
   "metadata": {},
   "outputs": [],
   "source": [
    "Full_county = pd.read_csv('/Users/coreyheim/Desktop/fullcounty.csv')"
   ]
  },
  {
   "cell_type": "markdown",
   "id": "906a2ca1",
   "metadata": {},
   "source": [
    "## Third Data Set\n",
    "After doing some testing, I figured out that I had too many records to get an accurate reading on my hypothesis. To fix this, I decided to manually combine the two CSV files I previously had to create one that contains the top 10 largest counties by land area to the 10 smallest counties by land area. Below is the table that has the first 10 counties as the biggest by land area, and the last 10 counties have the smallest land area."
   ]
  },
  {
   "cell_type": "code",
   "execution_count": 32,
   "id": "86812bfc",
   "metadata": {},
   "outputs": [
    {
     "data": {
      "text/html": [
       "<div>\n",
       "<style scoped>\n",
       "    .dataframe tbody tr th:only-of-type {\n",
       "        vertical-align: middle;\n",
       "    }\n",
       "\n",
       "    .dataframe tbody tr th {\n",
       "        vertical-align: top;\n",
       "    }\n",
       "\n",
       "    .dataframe thead th {\n",
       "        text-align: right;\n",
       "    }\n",
       "</style>\n",
       "<table border=\"1\" class=\"dataframe\">\n",
       "  <thead>\n",
       "    <tr style=\"text-align: right;\">\n",
       "      <th></th>\n",
       "      <th>CTYNAME</th>\n",
       "      <th>pop2021</th>\n",
       "      <th>GrowthRate</th>\n",
       "      <th>popDensity</th>\n",
       "      <th>Land Area</th>\n",
       "    </tr>\n",
       "  </thead>\n",
       "  <tbody>\n",
       "    <tr>\n",
       "      <th>0</th>\n",
       "      <td>Lycoming County</td>\n",
       "      <td>112165</td>\n",
       "      <td>-3.4932</td>\n",
       "      <td>126.3142</td>\n",
       "      <td>1228.59</td>\n",
       "    </tr>\n",
       "    <tr>\n",
       "      <th>1</th>\n",
       "      <td>Bradford County</td>\n",
       "      <td>59381</td>\n",
       "      <td>-5.3403</td>\n",
       "      <td>66.8717</td>\n",
       "      <td>1147.40</td>\n",
       "    </tr>\n",
       "    <tr>\n",
       "      <th>2</th>\n",
       "      <td>Clearfield County</td>\n",
       "      <td>78621</td>\n",
       "      <td>-3.5858</td>\n",
       "      <td>88.5387</td>\n",
       "      <td>1144.72</td>\n",
       "    </tr>\n",
       "    <tr>\n",
       "      <th>3</th>\n",
       "      <td>Tioga County</td>\n",
       "      <td>40393</td>\n",
       "      <td>-3.7666</td>\n",
       "      <td>45.4884</td>\n",
       "      <td>1133.79</td>\n",
       "    </tr>\n",
       "    <tr>\n",
       "      <th>4</th>\n",
       "      <td>Centre County</td>\n",
       "      <td>161953</td>\n",
       "      <td>5.0075</td>\n",
       "      <td>182.3828</td>\n",
       "      <td>1109.92</td>\n",
       "    </tr>\n",
       "    <tr>\n",
       "      <th>5</th>\n",
       "      <td>Potter County</td>\n",
       "      <td>16332</td>\n",
       "      <td>-6.4283</td>\n",
       "      <td>18.3922</td>\n",
       "      <td>1081.32</td>\n",
       "    </tr>\n",
       "    <tr>\n",
       "      <th>6</th>\n",
       "      <td>Somerset County</td>\n",
       "      <td>72597</td>\n",
       "      <td>-6.6385</td>\n",
       "      <td>81.7548</td>\n",
       "      <td>1074.37</td>\n",
       "    </tr>\n",
       "    <tr>\n",
       "      <th>7</th>\n",
       "      <td>Westmoreland County</td>\n",
       "      <td>345779</td>\n",
       "      <td>-5.2733</td>\n",
       "      <td>389.3977</td>\n",
       "      <td>1027.55</td>\n",
       "    </tr>\n",
       "    <tr>\n",
       "      <th>8</th>\n",
       "      <td>Crawford County</td>\n",
       "      <td>83667</td>\n",
       "      <td>-5.5826</td>\n",
       "      <td>94.2213</td>\n",
       "      <td>1012.30</td>\n",
       "    </tr>\n",
       "    <tr>\n",
       "      <th>9</th>\n",
       "      <td>Bedford County</td>\n",
       "      <td>47476</td>\n",
       "      <td>-4.4729</td>\n",
       "      <td>53.4649</td>\n",
       "      <td>1012.30</td>\n",
       "    </tr>\n",
       "    <tr>\n",
       "      <th>10</th>\n",
       "      <td>Juniata County</td>\n",
       "      <td>24853</td>\n",
       "      <td>0.9218</td>\n",
       "      <td>27.9881</td>\n",
       "      <td>391.35</td>\n",
       "    </tr>\n",
       "    <tr>\n",
       "      <th>11</th>\n",
       "      <td>Carbon County</td>\n",
       "      <td>64196</td>\n",
       "      <td>-1.6123</td>\n",
       "      <td>72.2941</td>\n",
       "      <td>381.46</td>\n",
       "    </tr>\n",
       "    <tr>\n",
       "      <th>12</th>\n",
       "      <td>Northampton County</td>\n",
       "      <td>306727</td>\n",
       "      <td>2.9510</td>\n",
       "      <td>345.4195</td>\n",
       "      <td>369.67</td>\n",
       "    </tr>\n",
       "    <tr>\n",
       "      <th>13</th>\n",
       "      <td>Lebanon County</td>\n",
       "      <td>142701</td>\n",
       "      <td>6.7610</td>\n",
       "      <td>160.7022</td>\n",
       "      <td>361.83</td>\n",
       "    </tr>\n",
       "    <tr>\n",
       "      <th>14</th>\n",
       "      <td>Lawrence County</td>\n",
       "      <td>84280</td>\n",
       "      <td>-7.4029</td>\n",
       "      <td>94.9116</td>\n",
       "      <td>358.17</td>\n",
       "    </tr>\n",
       "    <tr>\n",
       "      <th>15</th>\n",
       "      <td>Lehigh County</td>\n",
       "      <td>371236</td>\n",
       "      <td>6.0178</td>\n",
       "      <td>418.0660</td>\n",
       "      <td>345.17</td>\n",
       "    </tr>\n",
       "    <tr>\n",
       "      <th>16</th>\n",
       "      <td>Snyder County</td>\n",
       "      <td>40080</td>\n",
       "      <td>0.9368</td>\n",
       "      <td>45.1359</td>\n",
       "      <td>328.71</td>\n",
       "    </tr>\n",
       "    <tr>\n",
       "      <th>17</th>\n",
       "      <td>Union County</td>\n",
       "      <td>44735</td>\n",
       "      <td>-0.5911</td>\n",
       "      <td>50.3782</td>\n",
       "      <td>315.98</td>\n",
       "    </tr>\n",
       "    <tr>\n",
       "      <th>18</th>\n",
       "      <td>Delaware County</td>\n",
       "      <td>569779</td>\n",
       "      <td>1.9317</td>\n",
       "      <td>641.6545</td>\n",
       "      <td>183.84</td>\n",
       "    </tr>\n",
       "    <tr>\n",
       "      <th>19</th>\n",
       "      <td>Philadelphia County</td>\n",
       "      <td>1585010</td>\n",
       "      <td>3.7120</td>\n",
       "      <td>1784.9531</td>\n",
       "      <td>134.10</td>\n",
       "    </tr>\n",
       "    <tr>\n",
       "      <th>20</th>\n",
       "      <td>Montour County</td>\n",
       "      <td>18210</td>\n",
       "      <td>-0.4972</td>\n",
       "      <td>20.5071</td>\n",
       "      <td>130.24</td>\n",
       "    </tr>\n",
       "  </tbody>\n",
       "</table>\n",
       "</div>"
      ],
      "text/plain": [
       "                CTYNAME  pop2021  GrowthRate  popDensity  Land Area\n",
       "0       Lycoming County   112165     -3.4932    126.3142    1228.59\n",
       "1       Bradford County    59381     -5.3403     66.8717    1147.40\n",
       "2     Clearfield County    78621     -3.5858     88.5387    1144.72\n",
       "3          Tioga County    40393     -3.7666     45.4884    1133.79\n",
       "4         Centre County   161953      5.0075    182.3828    1109.92\n",
       "5         Potter County    16332     -6.4283     18.3922    1081.32\n",
       "6       Somerset County    72597     -6.6385     81.7548    1074.37\n",
       "7   Westmoreland County   345779     -5.2733    389.3977    1027.55\n",
       "8       Crawford County    83667     -5.5826     94.2213    1012.30\n",
       "9        Bedford County    47476     -4.4729     53.4649    1012.30\n",
       "10       Juniata County    24853      0.9218     27.9881     391.35\n",
       "11        Carbon County    64196     -1.6123     72.2941     381.46\n",
       "12   Northampton County   306727      2.9510    345.4195     369.67\n",
       "13       Lebanon County   142701      6.7610    160.7022     361.83\n",
       "14      Lawrence County    84280     -7.4029     94.9116     358.17\n",
       "15        Lehigh County   371236      6.0178    418.0660     345.17\n",
       "16        Snyder County    40080      0.9368     45.1359     328.71\n",
       "17         Union County    44735     -0.5911     50.3782     315.98\n",
       "18      Delaware County   569779      1.9317    641.6545     183.84\n",
       "19  Philadelphia County  1585010      3.7120   1784.9531     134.10\n",
       "20       Montour County    18210     -0.4972     20.5071     130.24"
      ]
     },
     "execution_count": 32,
     "metadata": {},
     "output_type": "execute_result"
    }
   ],
   "source": [
    "Full_county.head(21)"
   ]
  },
  {
   "cell_type": "markdown",
   "id": "ea231ebb",
   "metadata": {},
   "source": [
    "# Data Analysis #1\n",
    "My first attempt in trying to see if there is a correlation between the land area and growth rate of counties in Pennsylvania involves a scatter plot that uses the Land Area of counties on the x axis, and the Growth Rate of the counties on the Y axis. If my theoretical hypothesis is correct, I would assume that the scatter plot would show a convincing trend that has the growth rate going up along with the positive correlation with land area for the Counties.\n",
    "\n",
    "### Reviewing Chart\n",
    "After viewing this scatter plot, I have realized that my theoretical hypothesis, for the most part, was incorrect. By looking at this chart, you can see that the counties with the lowest land area have positive growth with only four counties showing negative growth with nothing more than -2%. The chart also shows the ten counties with the largest land area which all show negative growth below -2% except for one county that grew 4.5%. At first, I thought this was very surprising because I thought that counties with more land would grow more because of all the excess space and smaller counties would grow less because of the lack of space. When I thought about why my hypothesis was wrong I came up with the idea that the smaller counties can be more populated, just more squished together. For example, Philadelphia is the most populated county in Pennsylvania with about 1,585,010 people, but the second to last county by land area with only 134.10 sq miles. This is a major city in PA and cities are always going to be more populated than rural areas because people work in the city and some even move there. There are a lot more places to live in the city than there are in a more open county that may have farmland, wooded areas, etc. Another thing this chart shows is that counties with a higher land area have negative growth, which means that not only is the county not growing in population, people are moving out of those counties. "
   ]
  },
  {
   "cell_type": "code",
   "execution_count": 30,
   "id": "b79c4286",
   "metadata": {},
   "outputs": [
    {
     "data": {
      "image/png": "[encoded data removed]",
      "text/plain": [
       "<Figure size 720x720 with 1 Axes>"
      ]
     },
     "metadata": {
      "needs_background": "light"
     },
     "output_type": "display_data"
    }
   ],
   "source": [
    "fig1, ax1 = plt.subplots(1, 1, figsize = (10, 10))\n",
    "ax1.scatter(Full_county['Land Area'], Full_county['GrowthRate'])\n",
    "ax1.set_xlabel(\"Land Area\")\n",
    "ax1.set_ylabel(\"GrowthRate\")\n",
    "ax1.set_title(\"The Land Area of Counties in PA Corresponds to the Growth Rate\")\n",
    "\n",
    "\n",
    "plt.show()"
   ]
  },
  {
   "cell_type": "markdown",
   "id": "b2017950",
   "metadata": {},
   "source": [
    "# Data Analysis 2\n",
    "Using the stats.describe function I have analyzed some key information about the data that is being compared. First, looking at the Land Area column shows the average amount of land area in all 20 counties which comes out to be 679.656 sq mi. This statistic may not be useful in this analysis since I am comparing the top 10 biggest vs 10 smallest. A useful statistic is the minmax function which shows the lowest county with a land area of 130.24, and the biggest county with a land area of 1228.59. I was curious to see the growth rate difference in these two counties, so looking back at the data shows that the county with the most land area is Lycoming County with a growth rate of -3.49%, and the county with the least land area is Mountour County with a growth rate of -.5%."
   ]
  },
  {
   "cell_type": "code",
   "execution_count": 37,
   "id": "7fe7c0bd",
   "metadata": {},
   "outputs": [
    {
     "data": {
      "text/plain": [
       "DescribeResult(nobs=21, minmax=(130.24, 1228.59), mean=679.6561904761904, variance=173617.7931947619, skewness=0.04193317325739761, kurtosis=-1.812272610760052)"
      ]
     },
     "execution_count": 37,
     "metadata": {},
     "output_type": "execute_result"
    }
   ],
   "source": [
    "stats.describe(Full_county['Land Area'])"
   ]
  },
  {
   "cell_type": "code",
   "execution_count": 38,
   "id": "fc3b2fda",
   "metadata": {},
   "outputs": [
    {
     "data": {
      "text/plain": [
       "DescribeResult(nobs=21, minmax=(-7.4029, 6.761), mean=-1.2593047619047621, variance=19.58908013947619, skewness=0.3470387414100044, kurtosis=-1.1363109608490307)"
      ]
     },
     "execution_count": 38,
     "metadata": {},
     "output_type": "execute_result"
    }
   ],
   "source": [
    "stats.describe(Full_county['GrowthRate'])"
   ]
  },
  {
   "cell_type": "markdown",
   "id": "293b16a3",
   "metadata": {},
   "source": [
    "# T Test\n",
    "I am attempting to complete a T test for my analysis and am still currently working on completing this. I have more to look up and some questions I have to ask to get this part of my analysis done. I showed my starting point and plan to finish this for my final. I also have more of analysis to make on my stats.describe portion of the project, I plan to look at at least 3 more statistics to talk about regarding my chart, and then finally making my conclusion"
   ]
  },
  {
   "cell_type": "code",
   "execution_count": 39,
   "id": "c60b258b",
   "metadata": {},
   "outputs": [
    {
     "data": {
      "text/plain": [
       "Ttest_indResult(statistic=7.488265769229756, pvalue=3.954473765807656e-09)"
      ]
     },
     "execution_count": 39,
     "metadata": {},
     "output_type": "execute_result"
    }
   ],
   "source": [
    "stats.ttest_ind(Full_county['Land Area'], Full_county['GrowthRate'])"
   ]
  }
 ],
 "metadata": {
  "kernelspec": {
   "display_name": "Python 3 (ipykernel)",
   "language": "python",
   "name": "python3"
  },
  "language_info": {
   "codemirror_mode": {
    "name": "ipython",
    "version": 3
   },
   "file_extension": ".py",
   "mimetype": "text/x-python",
   "name": "python",
   "nbconvert_exporter": "python",
   "pygments_lexer": "ipython3",
   "version": "3.9.6"
  }
 },
 "nbformat": 4,
 "nbformat_minor": 5
}
